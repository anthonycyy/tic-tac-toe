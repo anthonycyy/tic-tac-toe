{
 "cells": [
  {
   "cell_type": "code",
   "execution_count": 3,
   "metadata": {},
   "outputs": [],
   "source": [
    "#This is a Tic-Tac-Toe game\n",
    "#Before going to the main frame of the game, there are 2 helper-functions"
   ]
  },
  {
   "cell_type": "code",
   "execution_count": 2,
   "metadata": {},
   "outputs": [],
   "source": [
    "import numpy as np"
   ]
  },
  {
   "cell_type": "code",
   "execution_count": 4,
   "metadata": {},
   "outputs": [],
   "source": [
    "#First helper-function\n",
    "#Check whether the winning condition is meet on a certain game board\n",
    "def check_result(game_board,player_no):\n",
    "    #same numbers on horizontal row\n",
    "    for i in range(3):\n",
    "        if [game_board[i,j]==player_no for j in range(3)]==[True,True,True]:\n",
    "            return player_no\n",
    "    #same numbers on vertical column\n",
    "    for j in range(3):\n",
    "        if [game_board[i,j]==player_no for i in range(3)]==[True,True,True]:\n",
    "            return player_no\n",
    "    #same numbers on \\diagonal\n",
    "    if [game_board[i,i]==player_no for i in range(3)]==[True,True,True]:\n",
    "        return player_no\n",
    "    #same numbers on /diagonal\n",
    "    if [game_board[i,2-i]==player_no for i in range(3)]==[True,True,True]:\n",
    "        return player_no\n",
    "    return 0"
   ]
  },
  {
   "cell_type": "code",
   "execution_count": 5,
   "metadata": {},
   "outputs": [],
   "source": [
    "#Second helper-function\n",
    "#Check whether a valid coordinate is inputed into the board\n",
    "#A valid coordinate input is like 01,00,02,etc.\n",
    "def get_input_(player_no,previous_inputs):\n",
    "    while True:\n",
    "        a=input(\"Player {} input: \".format(player_no))\n",
    "        i=int(a[0])\n",
    "        j=int(a[1])\n",
    "        #if the input is outside the range of 0 to 2, input again\n",
    "        if i in range(3) and j in range(3):\n",
    "            #if a player input a position which is already filled, input again\n",
    "            if a not in previous_inputs:\n",
    "                return i,j,a"
   ]
  },
  {
   "cell_type": "code",
   "execution_count": 10,
   "metadata": {},
   "outputs": [
    {
     "name": "stdout",
     "output_type": "stream",
     "text": [
      "[[0. 0. 0.]\n",
      " [0. 0. 0.]\n",
      " [0. 0. 0.]]\n",
      "Player 1 input: 00\n",
      "[[1. 0. 0.]\n",
      " [0. 0. 0.]\n",
      " [0. 0. 0.]]\n",
      "Player 2 input: 11\n",
      "[[1. 0. 0.]\n",
      " [0. 2. 0.]\n",
      " [0. 0. 0.]]\n",
      "Player 1 input: 22\n",
      "[[1. 0. 0.]\n",
      " [0. 2. 0.]\n",
      " [0. 0. 1.]]\n",
      "Player 2 input: 02\n",
      "[[1. 0. 2.]\n",
      " [0. 2. 0.]\n",
      " [0. 0. 1.]]\n",
      "Player 1 input: 20\n",
      "[[1. 0. 2.]\n",
      " [0. 2. 0.]\n",
      " [1. 0. 1.]]\n",
      "Player 2 input: 01\n",
      "[[1. 2. 2.]\n",
      " [0. 2. 0.]\n",
      " [1. 0. 1.]]\n",
      "Player 1 input: 20\n",
      "Player 1 input: 12\n",
      "[[1. 2. 2.]\n",
      " [0. 2. 1.]\n",
      " [1. 0. 1.]]\n",
      "Player 2 input: 01\n",
      "Player 2 input: 10\n",
      "[[1. 2. 2.]\n",
      " [2. 2. 1.]\n",
      " [1. 0. 1.]]\n",
      "Player 1 input: 21\n",
      "[[1. 2. 2.]\n",
      " [2. 2. 1.]\n",
      " [1. 1. 1.]]\n",
      "Player 1 wins\n"
     ]
    }
   ],
   "source": [
    "#main frame of the tic-tac-toe game\n",
    "game_board=np.zeros((3,3))\n",
    "#The flag is for the result of the game, true is there is win or lose, false if there is draw\n",
    "flag=False\n",
    "previous_inputs=[]\n",
    "print(game_board)\n",
    "for game_round in range(9):\n",
    "    if game_round%2==0:\n",
    "        player=1\n",
    "    else:\n",
    "        player=2\n",
    "    p_input=get_input_(player,previous_inputs)\n",
    "    previous_inputs.append(p_input[2])\n",
    "    game_board[p_input[0],p_input[1]]=player\n",
    "    print(game_board)\n",
    "    if check_result(game_board,player)==player:\n",
    "        print(\"Player {} wins\".format(player))\n",
    "        flag=True\n",
    "        break\n",
    "if flag==False:\n",
    "    print(\"Draw\")"
   ]
  },
  {
   "cell_type": "code",
   "execution_count": null,
   "metadata": {},
   "outputs": [],
   "source": []
  }
 ],
 "metadata": {
  "kernelspec": {
   "display_name": "Python 3",
   "language": "python",
   "name": "python3"
  },
  "language_info": {
   "codemirror_mode": {
    "name": "ipython",
    "version": 3
   },
   "file_extension": ".py",
   "mimetype": "text/x-python",
   "name": "python",
   "nbconvert_exporter": "python",
   "pygments_lexer": "ipython3",
   "version": "3.7.6"
  }
 },
 "nbformat": 4,
 "nbformat_minor": 4
}
