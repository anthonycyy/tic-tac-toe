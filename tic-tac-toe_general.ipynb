{
 "cells": [
  {
   "cell_type": "code",
   "execution_count": 1,
   "metadata": {},
   "outputs": [],
   "source": [
    "#This is a Tic-Tac-Toe game\n",
    "#Before going to the main frame of the game, there are 2 helper-functions"
   ]
  },
  {
   "cell_type": "code",
   "execution_count": 2,
   "metadata": {},
   "outputs": [],
   "source": [
    "import numpy as np"
   ]
  },
  {
   "cell_type": "code",
   "execution_count": 3,
   "metadata": {},
   "outputs": [],
   "source": [
    "#First helper-function\n",
    "#Check whether the winning condition is meet on a certain game board\n",
    "def check_result(game_board,player_no,size=3):\n",
    "    trues=[True]*size\n",
    "    #same numbers on horizontal row\n",
    "    for i in range(size):\n",
    "        if [game_board[i,j]==player_no for j in range(size)]==trues:\n",
    "            return player_no\n",
    "    #same numbers on vertical column\n",
    "    for j in range(size):\n",
    "        if [game_board[i,j]==player_no for i in range(size)]==trues:\n",
    "            return player_no\n",
    "    #same numbers on \\diagonal\n",
    "    if [game_board[i,i]==player_no for i in range(size)]==trues:\n",
    "        return player_no\n",
    "    #same numbers on /diagonal\n",
    "    if [game_board[i,size-1-i]==player_no for i in range(size)]==trues:\n",
    "        return player_no\n",
    "    return 0"
   ]
  },
  {
   "cell_type": "code",
   "execution_count": 4,
   "metadata": {},
   "outputs": [],
   "source": [
    "#Second helper-function\n",
    "#Check whether a valid coordinate is inputed into the board\n",
    "#A valid coordinate input is like 01,00,02,etc.\n",
    "def get_input_(player_no,previous_inputs,size=3):\n",
    "    while True:\n",
    "        a=input(\"Player {} input: \".format(player_no))\n",
    "        i=int(a[0])\n",
    "        j=int(a[1])\n",
    "        #if the input is outside the range of 0 to 2, input again\n",
    "        if i in range(size) and j in range(size):\n",
    "            #if a player input a position which is already filled, input again\n",
    "            if a not in previous_inputs:\n",
    "                return i,j,a"
   ]
  },
  {
   "cell_type": "code",
   "execution_count": 7,
   "metadata": {},
   "outputs": [],
   "source": [
    "#main frame of the tic-tac-toe game function \n",
    "def tic_tac_toe(size=3):\n",
    "    game_board=np.zeros((size,size))\n",
    "    previous_inputs=[]\n",
    "    print(game_board)\n",
    "    for game_round in range(size**2):\n",
    "        if game_round%2==0:\n",
    "            player=1\n",
    "        else:\n",
    "            player=2\n",
    "        p_input=get_input_(player,previous_inputs,size)\n",
    "        previous_inputs.append(p_input[2])\n",
    "        game_board[p_input[0],p_input[1]]=player\n",
    "        print(game_board)\n",
    "        if check_result(game_board,player,size)==player:\n",
    "            print(\"Player {} wins\".format(player))\n",
    "            return player\n",
    "    print(\"Draw\")\n",
    "    return 0"
   ]
  },
  {
   "cell_type": "code",
   "execution_count": 8,
   "metadata": {},
   "outputs": [
    {
     "name": "stdout",
     "output_type": "stream",
     "text": [
      "[[0. 0. 0.]\n",
      " [0. 0. 0.]\n",
      " [0. 0. 0.]]\n"
     ]
    },
    {
     "name": "stdin",
     "output_type": "stream",
     "text": [
      "Player 1 input:  01\n"
     ]
    },
    {
     "name": "stdout",
     "output_type": "stream",
     "text": [
      "[[0. 1. 0.]\n",
      " [0. 0. 0.]\n",
      " [0. 0. 0.]]\n"
     ]
    },
    {
     "name": "stdin",
     "output_type": "stream",
     "text": [
      "Player 2 input:  11\n"
     ]
    },
    {
     "name": "stdout",
     "output_type": "stream",
     "text": [
      "[[0. 1. 0.]\n",
      " [0. 2. 0.]\n",
      " [0. 0. 0.]]\n"
     ]
    },
    {
     "name": "stdin",
     "output_type": "stream",
     "text": [
      "Player 1 input:  12\n"
     ]
    },
    {
     "name": "stdout",
     "output_type": "stream",
     "text": [
      "[[0. 1. 0.]\n",
      " [0. 2. 1.]\n",
      " [0. 0. 0.]]\n"
     ]
    },
    {
     "name": "stdin",
     "output_type": "stream",
     "text": [
      "Player 2 input:  00\n"
     ]
    },
    {
     "name": "stdout",
     "output_type": "stream",
     "text": [
      "[[2. 1. 0.]\n",
      " [0. 2. 1.]\n",
      " [0. 0. 0.]]\n"
     ]
    },
    {
     "name": "stdin",
     "output_type": "stream",
     "text": [
      "Player 1 input:  22\n"
     ]
    },
    {
     "name": "stdout",
     "output_type": "stream",
     "text": [
      "[[2. 1. 0.]\n",
      " [0. 2. 1.]\n",
      " [0. 0. 1.]]\n"
     ]
    },
    {
     "name": "stdin",
     "output_type": "stream",
     "text": [
      "Player 2 input:  02\n"
     ]
    },
    {
     "name": "stdout",
     "output_type": "stream",
     "text": [
      "[[2. 1. 2.]\n",
      " [0. 2. 1.]\n",
      " [0. 0. 1.]]\n"
     ]
    },
    {
     "name": "stdin",
     "output_type": "stream",
     "text": [
      "Player 1 input:  21\n"
     ]
    },
    {
     "name": "stdout",
     "output_type": "stream",
     "text": [
      "[[2. 1. 2.]\n",
      " [0. 2. 1.]\n",
      " [0. 1. 1.]]\n"
     ]
    },
    {
     "name": "stdin",
     "output_type": "stream",
     "text": [
      "Player 2 input:  20\n"
     ]
    },
    {
     "name": "stdout",
     "output_type": "stream",
     "text": [
      "[[2. 1. 2.]\n",
      " [0. 2. 1.]\n",
      " [2. 1. 1.]]\n",
      "Player 2 wins\n"
     ]
    },
    {
     "data": {
      "text/plain": [
       "2"
      ]
     },
     "execution_count": 8,
     "metadata": {},
     "output_type": "execute_result"
    }
   ],
   "source": [
    "tic_tac_toe(3)"
   ]
  },
  {
   "cell_type": "code",
   "execution_count": 9,
   "metadata": {},
   "outputs": [
    {
     "name": "stdout",
     "output_type": "stream",
     "text": [
      "[[0. 0. 0. 0.]\n",
      " [0. 0. 0. 0.]\n",
      " [0. 0. 0. 0.]\n",
      " [0. 0. 0. 0.]]\n"
     ]
    },
    {
     "name": "stdin",
     "output_type": "stream",
     "text": [
      "Player 1 input:  00\n"
     ]
    },
    {
     "name": "stdout",
     "output_type": "stream",
     "text": [
      "[[1. 0. 0. 0.]\n",
      " [0. 0. 0. 0.]\n",
      " [0. 0. 0. 0.]\n",
      " [0. 0. 0. 0.]]\n"
     ]
    },
    {
     "name": "stdin",
     "output_type": "stream",
     "text": [
      "Player 2 input:  02\n"
     ]
    },
    {
     "name": "stdout",
     "output_type": "stream",
     "text": [
      "[[1. 0. 2. 0.]\n",
      " [0. 0. 0. 0.]\n",
      " [0. 0. 0. 0.]\n",
      " [0. 0. 0. 0.]]\n"
     ]
    },
    {
     "name": "stdin",
     "output_type": "stream",
     "text": [
      "Player 1 input:  11\n"
     ]
    },
    {
     "name": "stdout",
     "output_type": "stream",
     "text": [
      "[[1. 0. 2. 0.]\n",
      " [0. 1. 0. 0.]\n",
      " [0. 0. 0. 0.]\n",
      " [0. 0. 0. 0.]]\n"
     ]
    },
    {
     "name": "stdin",
     "output_type": "stream",
     "text": [
      "Player 2 input:  22\n"
     ]
    },
    {
     "name": "stdout",
     "output_type": "stream",
     "text": [
      "[[1. 0. 2. 0.]\n",
      " [0. 1. 0. 0.]\n",
      " [0. 0. 2. 0.]\n",
      " [0. 0. 0. 0.]]\n"
     ]
    },
    {
     "name": "stdin",
     "output_type": "stream",
     "text": [
      "Player 1 input:  21\n"
     ]
    },
    {
     "name": "stdout",
     "output_type": "stream",
     "text": [
      "[[1. 0. 2. 0.]\n",
      " [0. 1. 0. 0.]\n",
      " [0. 1. 2. 0.]\n",
      " [0. 0. 0. 0.]]\n"
     ]
    },
    {
     "name": "stdin",
     "output_type": "stream",
     "text": [
      "Player 2 input:  21\n",
      "Player 2 input:  00\n",
      "Player 2 input:  02\n",
      "Player 2 input:  10\n"
     ]
    },
    {
     "name": "stdout",
     "output_type": "stream",
     "text": [
      "[[1. 0. 2. 0.]\n",
      " [2. 1. 0. 0.]\n",
      " [0. 1. 2. 0.]\n",
      " [0. 0. 0. 0.]]\n"
     ]
    },
    {
     "name": "stdin",
     "output_type": "stream",
     "text": [
      "Player 1 input:  01\n"
     ]
    },
    {
     "name": "stdout",
     "output_type": "stream",
     "text": [
      "[[1. 1. 2. 0.]\n",
      " [2. 1. 0. 0.]\n",
      " [0. 1. 2. 0.]\n",
      " [0. 0. 0. 0.]]\n"
     ]
    },
    {
     "name": "stdin",
     "output_type": "stream",
     "text": [
      "Player 2 input:  02\n",
      "Player 2 input:  12\n"
     ]
    },
    {
     "name": "stdout",
     "output_type": "stream",
     "text": [
      "[[1. 1. 2. 0.]\n",
      " [2. 1. 2. 0.]\n",
      " [0. 1. 2. 0.]\n",
      " [0. 0. 0. 0.]]\n"
     ]
    },
    {
     "name": "stdin",
     "output_type": "stream",
     "text": [
      "Player 1 input:  31\n"
     ]
    },
    {
     "name": "stdout",
     "output_type": "stream",
     "text": [
      "[[1. 1. 2. 0.]\n",
      " [2. 1. 2. 0.]\n",
      " [0. 1. 2. 0.]\n",
      " [0. 1. 0. 0.]]\n",
      "Player 1 wins\n"
     ]
    },
    {
     "data": {
      "text/plain": [
       "1"
      ]
     },
     "execution_count": 9,
     "metadata": {},
     "output_type": "execute_result"
    }
   ],
   "source": [
    "tic_tac_toe(4)"
   ]
  },
  {
   "cell_type": "code",
   "execution_count": null,
   "metadata": {},
   "outputs": [],
   "source": []
  }
 ],
 "metadata": {
  "kernelspec": {
   "display_name": "Python 3",
   "language": "python",
   "name": "python3"
  },
  "language_info": {
   "codemirror_mode": {
    "name": "ipython",
    "version": 3
   },
   "file_extension": ".py",
   "mimetype": "text/x-python",
   "name": "python",
   "nbconvert_exporter": "python",
   "pygments_lexer": "ipython3",
   "version": "3.8.3"
  }
 },
 "nbformat": 4,
 "nbformat_minor": 4
}
